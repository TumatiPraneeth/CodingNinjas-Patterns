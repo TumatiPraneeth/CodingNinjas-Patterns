{
 "cells": [
  {
   "cell_type": "markdown",
   "metadata": {},
   "source": [
    "output required:4444\n",
    "                333\n",
    "                22\n",
    "                1"
   ]
  },
  {
   "cell_type": "code",
   "execution_count": 1,
   "metadata": {},
   "outputs": [
    {
     "name": "stdout",
     "output_type": "stream",
     "text": [
      "4\n",
      "4444\n",
      "333\n",
      "22\n",
      "1\n"
     ]
    }
   ],
   "source": [
    "n=int(input())\n",
    "i=1\n",
    "while i<=n:\n",
    "    j=n-i+1\n",
    "    p=n-i+1\n",
    "    while j>0:\n",
    "        print(p,end='')\n",
    "        j=j-1\n",
    "    print()\n",
    "    i=i+1"
   ]
  },
  {
   "cell_type": "markdown",
   "metadata": {},
   "source": [
    "Output required:   1\n",
    "                  12\n",
    "                 123\n",
    "                1234"
   ]
  },
  {
   "cell_type": "code",
   "execution_count": 2,
   "metadata": {},
   "outputs": [
    {
     "name": "stdout",
     "output_type": "stream",
     "text": [
      "4\n",
      "   1\n",
      "  12\n",
      " 123\n",
      "1234\n"
     ]
    }
   ],
   "source": [
    "n=int(input())\n",
    "i=1\n",
    "while i<=n:\n",
    "    spaces=1\n",
    "    while spaces<=n-i:\n",
    "        print(' ',end='')\n",
    "        spaces=spaces+1\n",
    "    number=1\n",
    "    while number<=i:\n",
    "        p=number\n",
    "        print(p,end='')\n",
    "        p=p+1\n",
    "        number=number+1\n",
    "    print()\n",
    "    i=i+1"
   ]
  },
  {
   "cell_type": "markdown",
   "metadata": {},
   "source": [
    "output:*\n",
    "      ***\n",
    "     *****\n",
    "    *******"
   ]
  },
  {
   "cell_type": "code",
   "execution_count": 3,
   "metadata": {},
   "outputs": [
    {
     "name": "stdout",
     "output_type": "stream",
     "text": [
      "4\n",
      "   *\n",
      "  ***\n",
      " *****\n",
      "*******\n"
     ]
    }
   ],
   "source": [
    "n=int(input())\n",
    "i=1\n",
    "while i<=n:\n",
    "    spaces=1\n",
    "    while spaces<=n-i:\n",
    "        print(' ',end='')\n",
    "        spaces=spaces+1\n",
    "    stars=1\n",
    "    while stars<=i:\n",
    "        print('*',end='')\n",
    "        stars=stars+1\n",
    "    #reducing stars\n",
    "    restars=i-1\n",
    "    while restars>=1:\n",
    "        print('*',end='')\n",
    "        restars=restars-1\n",
    "    print()\n",
    "    i=i+1"
   ]
  },
  {
   "cell_type": "code",
   "execution_count": 1,
   "metadata": {},
   "outputs": [
    {
     "name": "stdout",
     "output_type": "stream",
     "text": [
      "4\n",
      "  1\n",
      " 233\n",
      "34543\n",
      "4567543\n"
     ]
    }
   ],
   "source": [
    "n=int(input())\n",
    "i=1\n",
    "while i<=n:\n",
    "    spaces=1\n",
    "    while spaces<n-i:\n",
    "        print(' ',end='')\n",
    "        spaces=spaces+1\n",
    "    p=i#numbers\n",
    "    j=1\n",
    "    while j<=i:\n",
    "        print(p,end='')\n",
    "        j=j+1\n",
    "        p=p+1\n",
    "    \n",
    "    \n",
    "    k=i\n",
    "    num=k+1\n",
    "    while k>=2:\n",
    "        print(num,end='')\n",
    "        k=k-1\n",
    "        num=num-1\n",
    "    print()\n",
    "    i=i+1"
   ]
  },
  {
   "cell_type": "markdown",
   "metadata": {},
   "source": [
    "Output Requried: 1\n",
    "                232\n",
    "               34543\n",
    "              4567654"
   ]
  },
  {
   "cell_type": "code",
   "execution_count": 1,
   "metadata": {},
   "outputs": [
    {
     "name": "stdout",
     "output_type": "stream",
     "text": [
      "4\n",
      "   1\n",
      "  232\n",
      " 34543\n",
      "4567654\n"
     ]
    }
   ],
   "source": [
    "n=int(input())\n",
    "i=1\n",
    "while i<=n:\n",
    "    spaces=1\n",
    "    while spaces<=n-i:\n",
    "        print(' ',end='')\n",
    "        spaces=spaces+1\n",
    "    p=i#numbers\n",
    "    j=1\n",
    "    while j<=i:\n",
    "        print(p,end='')\n",
    "        j=j+1\n",
    "        p=p+1\n",
    "    j=1\n",
    "    num=2*i-2\n",
    "    while j<=i-1:\n",
    "        print(num,end='')\n",
    "        num=num-1\n",
    "        j=j+1\n",
    "    print()\n",
    "    i=i+1"
   ]
  },
  {
   "cell_type": "markdown",
   "metadata": {},
   "source": [
    "Output Required:  *\n",
    "                 ***\n",
    "                *****\n",
    "                 ***\n",
    "                  *"
   ]
  },
  {
   "cell_type": "code",
   "execution_count": 17,
   "metadata": {},
   "outputs": [
    {
     "name": "stdout",
     "output_type": "stream",
     "text": [
      "5\n",
      "  *\n",
      " ***\n",
      "*****\n",
      " ***\n",
      "  *\n"
     ]
    }
   ],
   "source": [
    "## Read input as specified in the question.\n",
    "n=int(input())\n",
    "\n",
    "#as we solve by dividing into 2 halfs..\n",
    "n1=(n+1)/2\n",
    "n2=((n+1)/2)-1\n",
    "#code for first half....\n",
    "i=1\n",
    "while i<=n1:\n",
    "    spaces=1\n",
    "    while spaces<=n1-i:\n",
    "        print(' ',end='')\n",
    "        spaces=spaces+1\n",
    "    stars=2*i-1#no.of stars\n",
    "    j=1\n",
    "    while j<=stars:\n",
    "        print('*',end='')\n",
    "        j=j+1\n",
    "    print()\n",
    "    i=i+1\n",
    "i=n2\n",
    "while i>=1:\n",
    "    spaces=1\n",
    "    while spaces<=n2-i+1:\n",
    "        print(' ',end='')\n",
    "        spaces=spaces+1\n",
    "    j=1\n",
    "    stars=2*i-1\n",
    "    while j<=stars:\n",
    "        print('*',end='')\n",
    "        j=j+1\n",
    "    print()\n",
    "    i=i-1"
   ]
  },
  {
   "cell_type": "markdown",
   "metadata": {},
   "source": [
    "Output Required: *000*000*\n",
    "                 0*00*00*0\n",
    "                 00*0*0*00\n",
    "                 000***000"
   ]
  },
  {
   "cell_type": "code",
   "execution_count": 18,
   "metadata": {},
   "outputs": [
    {
     "name": "stdout",
     "output_type": "stream",
     "text": [
      "4\n",
      "*000*000*\n",
      "0*00*00*0\n",
      "00*0*0*00\n",
      "000***000\n"
     ]
    }
   ],
   "source": [
    "n = int(input())\n",
    "i = 1\n",
    "star = 1\n",
    "while i<=n:\n",
    "    j = 1\n",
    "    while j <= 2*n + 1:\n",
    "        if star == i and star == j:\n",
    "            print('*', end ='')\n",
    "            star = star + 1\n",
    "        elif j == n + 1 or j == 2*n+2 - i:\n",
    "            print('*', end ='')\n",
    "        else:\n",
    "            print(0, end ='')\n",
    "        j = j + 1\n",
    "    print()\n",
    "    i = i + 1"
   ]
  },
  {
   "cell_type": "markdown",
   "metadata": {},
   "source": [
    "output required: 1\n",
    "                212\n",
    "               32123\n",
    "              4321234"
   ]
  },
  {
   "cell_type": "code",
   "execution_count": 1,
   "metadata": {},
   "outputs": [
    {
     "name": "stdout",
     "output_type": "stream",
     "text": [
      "4\n",
      "   1\n",
      "  212\n",
      " 32123\n",
      "4321234\n"
     ]
    }
   ],
   "source": [
    "n=int(input())\n",
    "i=1\n",
    "while i<=n:\n",
    "    spaces=1\n",
    "    while spaces<=n-i:\n",
    "        print(' ',end='')\n",
    "        spaces=spaces+1\n",
    "    k=i\n",
    "    #decreasing number....\n",
    "    while k>0:\n",
    "        print(k,end='')\n",
    "        k=k-1\n",
    "    #increasing number.....\n",
    "    j=2\n",
    "    while j<=i:\n",
    "        print(j,end='')\n",
    "        j=j+1\n",
    "    print()\n",
    "    i=i+1"
   ]
  },
  {
   "cell_type": "code",
   "execution_count": 4,
   "metadata": {},
   "outputs": [
    {
     "name": "stdout",
     "output_type": "stream",
     "text": [
      "5\n",
      "* \n",
      " * * \n",
      "  * * * \n",
      " * * \n",
      "* \n"
     ]
    }
   ],
   "source": [
    "n=int(input())\n",
    "n1=(n+1)/2\n",
    "n2=n1-1\n",
    "i=1\n",
    "while i<=n1:\n",
    "    spaces=1\n",
    "    while spaces<=i-1:\n",
    "        print(' ',end='')\n",
    "        spaces=spaces+1\n",
    "    stars=1\n",
    "    while stars<=i:\n",
    "        print('*',end=\" \")\n",
    "        stars=stars+1\n",
    "    print()\n",
    "    i=i+1\n",
    "i=1\n",
    "while i<=n2:\n",
    "    spaces=1\n",
    "    while spaces<=n2-i:\n",
    "        print(' ',end='')\n",
    "        spaces=spaces+1\n",
    "    stars=1\n",
    "    while stars<=n2-i+1:\n",
    "        print('*',end=' ')\n",
    "        stars=stars+1\n",
    "    print()\n",
    "    i=i+1"
   ]
  },
  {
   "cell_type": "code",
   "execution_count": null,
   "metadata": {},
   "outputs": [],
   "source": []
  }
 ],
 "metadata": {
  "kernelspec": {
   "display_name": "Python 3",
   "language": "python",
   "name": "python3"
  },
  "language_info": {
   "codemirror_mode": {
    "name": "ipython",
    "version": 3
   },
   "file_extension": ".py",
   "mimetype": "text/x-python",
   "name": "python",
   "nbconvert_exporter": "python",
   "pygments_lexer": "ipython3",
   "version": "3.7.6"
  }
 },
 "nbformat": 4,
 "nbformat_minor": 4
}
